{
 "cells": [
  {
   "cell_type": "code",
   "execution_count": 8,
   "metadata": {},
   "outputs": [
    {
     "ename": "FileNotFoundError",
     "evalue": "[Errno 2] No such file or directory: 'test_data.csv'",
     "output_type": "error",
     "traceback": [
      "\u001b[1;31m---------------------------------------------------------------------------\u001b[0m",
      "\u001b[1;31mFileNotFoundError\u001b[0m                         Traceback (most recent call last)",
      "\u001b[1;32mUntitled-1.ipynb Cell 1'\u001b[0m in \u001b[0;36m<cell line: 3>\u001b[1;34m()\u001b[0m\n\u001b[0;32m      <a href='vscode-notebook-cell:Untitled-1.ipynb?jupyter-notebook#ch0000000untitled?line=0'>1</a>\u001b[0m \u001b[39mimport\u001b[39;00m \u001b[39mpandas\u001b[39;00m \u001b[39mas\u001b[39;00m \u001b[39mpd\u001b[39;00m\n\u001b[0;32m      <a href='vscode-notebook-cell:Untitled-1.ipynb?jupyter-notebook#ch0000000untitled?line=1'>2</a>\u001b[0m \u001b[39mimport\u001b[39;00m \u001b[39mnumpy\u001b[39;00m \u001b[39mas\u001b[39;00m \u001b[39mnp\u001b[39;00m\n\u001b[1;32m----> <a href='vscode-notebook-cell:Untitled-1.ipynb?jupyter-notebook#ch0000000untitled?line=2'>3</a>\u001b[0m data \u001b[39m=\u001b[39m pd\u001b[39m.\u001b[39;49mread_csv(\u001b[39m'\u001b[39;49m\u001b[39mtest_data.csv\u001b[39;49m\u001b[39m'\u001b[39;49m)\n",
      "File \u001b[1;32m~\\AppData\\Local\\Programs\\PythonCodingPack\\lib\\site-packages\\pandas\\io\\parsers.py:686\u001b[0m, in \u001b[0;36mread_csv\u001b[1;34m(filepath_or_buffer, sep, delimiter, header, names, index_col, usecols, squeeze, prefix, mangle_dupe_cols, dtype, engine, converters, true_values, false_values, skipinitialspace, skiprows, skipfooter, nrows, na_values, keep_default_na, na_filter, verbose, skip_blank_lines, parse_dates, infer_datetime_format, keep_date_col, date_parser, dayfirst, cache_dates, iterator, chunksize, compression, thousands, decimal, lineterminator, quotechar, quoting, doublequote, escapechar, comment, encoding, dialect, error_bad_lines, warn_bad_lines, delim_whitespace, low_memory, memory_map, float_precision)\u001b[0m\n\u001b[0;32m    <a href='file:///c%3A/Users/Elias/AppData/Local/Programs/PythonCodingPack/lib/site-packages/pandas/io/parsers.py?line=632'>633</a>\u001b[0m     engine_specified \u001b[39m=\u001b[39m \u001b[39mFalse\u001b[39;00m\n\u001b[0;32m    <a href='file:///c%3A/Users/Elias/AppData/Local/Programs/PythonCodingPack/lib/site-packages/pandas/io/parsers.py?line=634'>635</a>\u001b[0m kwds\u001b[39m.\u001b[39mupdate(\n\u001b[0;32m    <a href='file:///c%3A/Users/Elias/AppData/Local/Programs/PythonCodingPack/lib/site-packages/pandas/io/parsers.py?line=635'>636</a>\u001b[0m     delimiter\u001b[39m=\u001b[39mdelimiter,\n\u001b[0;32m    <a href='file:///c%3A/Users/Elias/AppData/Local/Programs/PythonCodingPack/lib/site-packages/pandas/io/parsers.py?line=636'>637</a>\u001b[0m     engine\u001b[39m=\u001b[39mengine,\n\u001b[1;32m   (...)\u001b[0m\n\u001b[0;32m    <a href='file:///c%3A/Users/Elias/AppData/Local/Programs/PythonCodingPack/lib/site-packages/pandas/io/parsers.py?line=682'>683</a>\u001b[0m     skip_blank_lines\u001b[39m=\u001b[39mskip_blank_lines,\n\u001b[0;32m    <a href='file:///c%3A/Users/Elias/AppData/Local/Programs/PythonCodingPack/lib/site-packages/pandas/io/parsers.py?line=683'>684</a>\u001b[0m )\n\u001b[1;32m--> <a href='file:///c%3A/Users/Elias/AppData/Local/Programs/PythonCodingPack/lib/site-packages/pandas/io/parsers.py?line=685'>686</a>\u001b[0m \u001b[39mreturn\u001b[39;00m _read(filepath_or_buffer, kwds)\n",
      "File \u001b[1;32m~\\AppData\\Local\\Programs\\PythonCodingPack\\lib\\site-packages\\pandas\\io\\parsers.py:452\u001b[0m, in \u001b[0;36m_read\u001b[1;34m(filepath_or_buffer, kwds)\u001b[0m\n\u001b[0;32m    <a href='file:///c%3A/Users/Elias/AppData/Local/Programs/PythonCodingPack/lib/site-packages/pandas/io/parsers.py?line=448'>449</a>\u001b[0m _validate_names(kwds\u001b[39m.\u001b[39mget(\u001b[39m\"\u001b[39m\u001b[39mnames\u001b[39m\u001b[39m\"\u001b[39m, \u001b[39mNone\u001b[39;00m))\n\u001b[0;32m    <a href='file:///c%3A/Users/Elias/AppData/Local/Programs/PythonCodingPack/lib/site-packages/pandas/io/parsers.py?line=450'>451</a>\u001b[0m \u001b[39m# Create the parser.\u001b[39;00m\n\u001b[1;32m--> <a href='file:///c%3A/Users/Elias/AppData/Local/Programs/PythonCodingPack/lib/site-packages/pandas/io/parsers.py?line=451'>452</a>\u001b[0m parser \u001b[39m=\u001b[39m TextFileReader(fp_or_buf, \u001b[39m*\u001b[39;49m\u001b[39m*\u001b[39;49mkwds)\n\u001b[0;32m    <a href='file:///c%3A/Users/Elias/AppData/Local/Programs/PythonCodingPack/lib/site-packages/pandas/io/parsers.py?line=453'>454</a>\u001b[0m \u001b[39mif\u001b[39;00m chunksize \u001b[39mor\u001b[39;00m iterator:\n\u001b[0;32m    <a href='file:///c%3A/Users/Elias/AppData/Local/Programs/PythonCodingPack/lib/site-packages/pandas/io/parsers.py?line=454'>455</a>\u001b[0m     \u001b[39mreturn\u001b[39;00m parser\n",
      "File \u001b[1;32m~\\AppData\\Local\\Programs\\PythonCodingPack\\lib\\site-packages\\pandas\\io\\parsers.py:936\u001b[0m, in \u001b[0;36mTextFileReader.__init__\u001b[1;34m(self, f, engine, **kwds)\u001b[0m\n\u001b[0;32m    <a href='file:///c%3A/Users/Elias/AppData/Local/Programs/PythonCodingPack/lib/site-packages/pandas/io/parsers.py?line=932'>933</a>\u001b[0m \u001b[39mif\u001b[39;00m \u001b[39m\"\u001b[39m\u001b[39mhas_index_names\u001b[39m\u001b[39m\"\u001b[39m \u001b[39min\u001b[39;00m kwds:\n\u001b[0;32m    <a href='file:///c%3A/Users/Elias/AppData/Local/Programs/PythonCodingPack/lib/site-packages/pandas/io/parsers.py?line=933'>934</a>\u001b[0m     \u001b[39mself\u001b[39m\u001b[39m.\u001b[39moptions[\u001b[39m\"\u001b[39m\u001b[39mhas_index_names\u001b[39m\u001b[39m\"\u001b[39m] \u001b[39m=\u001b[39m kwds[\u001b[39m\"\u001b[39m\u001b[39mhas_index_names\u001b[39m\u001b[39m\"\u001b[39m]\n\u001b[1;32m--> <a href='file:///c%3A/Users/Elias/AppData/Local/Programs/PythonCodingPack/lib/site-packages/pandas/io/parsers.py?line=935'>936</a>\u001b[0m \u001b[39mself\u001b[39;49m\u001b[39m.\u001b[39;49m_make_engine(\u001b[39mself\u001b[39;49m\u001b[39m.\u001b[39;49mengine)\n",
      "File \u001b[1;32m~\\AppData\\Local\\Programs\\PythonCodingPack\\lib\\site-packages\\pandas\\io\\parsers.py:1168\u001b[0m, in \u001b[0;36mTextFileReader._make_engine\u001b[1;34m(self, engine)\u001b[0m\n\u001b[0;32m   <a href='file:///c%3A/Users/Elias/AppData/Local/Programs/PythonCodingPack/lib/site-packages/pandas/io/parsers.py?line=1165'>1166</a>\u001b[0m \u001b[39mdef\u001b[39;00m \u001b[39m_make_engine\u001b[39m(\u001b[39mself\u001b[39m, engine\u001b[39m=\u001b[39m\u001b[39m\"\u001b[39m\u001b[39mc\u001b[39m\u001b[39m\"\u001b[39m):\n\u001b[0;32m   <a href='file:///c%3A/Users/Elias/AppData/Local/Programs/PythonCodingPack/lib/site-packages/pandas/io/parsers.py?line=1166'>1167</a>\u001b[0m     \u001b[39mif\u001b[39;00m engine \u001b[39m==\u001b[39m \u001b[39m\"\u001b[39m\u001b[39mc\u001b[39m\u001b[39m\"\u001b[39m:\n\u001b[1;32m-> <a href='file:///c%3A/Users/Elias/AppData/Local/Programs/PythonCodingPack/lib/site-packages/pandas/io/parsers.py?line=1167'>1168</a>\u001b[0m         \u001b[39mself\u001b[39m\u001b[39m.\u001b[39m_engine \u001b[39m=\u001b[39m CParserWrapper(\u001b[39mself\u001b[39;49m\u001b[39m.\u001b[39;49mf, \u001b[39m*\u001b[39;49m\u001b[39m*\u001b[39;49m\u001b[39mself\u001b[39;49m\u001b[39m.\u001b[39;49moptions)\n\u001b[0;32m   <a href='file:///c%3A/Users/Elias/AppData/Local/Programs/PythonCodingPack/lib/site-packages/pandas/io/parsers.py?line=1168'>1169</a>\u001b[0m     \u001b[39melse\u001b[39;00m:\n\u001b[0;32m   <a href='file:///c%3A/Users/Elias/AppData/Local/Programs/PythonCodingPack/lib/site-packages/pandas/io/parsers.py?line=1169'>1170</a>\u001b[0m         \u001b[39mif\u001b[39;00m engine \u001b[39m==\u001b[39m \u001b[39m\"\u001b[39m\u001b[39mpython\u001b[39m\u001b[39m\"\u001b[39m:\n",
      "File \u001b[1;32m~\\AppData\\Local\\Programs\\PythonCodingPack\\lib\\site-packages\\pandas\\io\\parsers.py:1998\u001b[0m, in \u001b[0;36mCParserWrapper.__init__\u001b[1;34m(self, src, **kwds)\u001b[0m\n\u001b[0;32m   <a href='file:///c%3A/Users/Elias/AppData/Local/Programs/PythonCodingPack/lib/site-packages/pandas/io/parsers.py?line=1994'>1995</a>\u001b[0m \u001b[39mself\u001b[39m\u001b[39m.\u001b[39musecols, \u001b[39mself\u001b[39m\u001b[39m.\u001b[39musecols_dtype \u001b[39m=\u001b[39m _validate_usecols_arg(kwds[\u001b[39m\"\u001b[39m\u001b[39musecols\u001b[39m\u001b[39m\"\u001b[39m])\n\u001b[0;32m   <a href='file:///c%3A/Users/Elias/AppData/Local/Programs/PythonCodingPack/lib/site-packages/pandas/io/parsers.py?line=1995'>1996</a>\u001b[0m kwds[\u001b[39m\"\u001b[39m\u001b[39musecols\u001b[39m\u001b[39m\"\u001b[39m] \u001b[39m=\u001b[39m \u001b[39mself\u001b[39m\u001b[39m.\u001b[39musecols\n\u001b[1;32m-> <a href='file:///c%3A/Users/Elias/AppData/Local/Programs/PythonCodingPack/lib/site-packages/pandas/io/parsers.py?line=1997'>1998</a>\u001b[0m \u001b[39mself\u001b[39m\u001b[39m.\u001b[39m_reader \u001b[39m=\u001b[39m parsers\u001b[39m.\u001b[39;49mTextReader(src, \u001b[39m*\u001b[39;49m\u001b[39m*\u001b[39;49mkwds)\n\u001b[0;32m   <a href='file:///c%3A/Users/Elias/AppData/Local/Programs/PythonCodingPack/lib/site-packages/pandas/io/parsers.py?line=1998'>1999</a>\u001b[0m \u001b[39mself\u001b[39m\u001b[39m.\u001b[39munnamed_cols \u001b[39m=\u001b[39m \u001b[39mself\u001b[39m\u001b[39m.\u001b[39m_reader\u001b[39m.\u001b[39munnamed_cols\n\u001b[0;32m   <a href='file:///c%3A/Users/Elias/AppData/Local/Programs/PythonCodingPack/lib/site-packages/pandas/io/parsers.py?line=2000'>2001</a>\u001b[0m passed_names \u001b[39m=\u001b[39m \u001b[39mself\u001b[39m\u001b[39m.\u001b[39mnames \u001b[39mis\u001b[39;00m \u001b[39mNone\u001b[39;00m\n",
      "File \u001b[1;32mpandas\\_libs\\parsers.pyx:361\u001b[0m, in \u001b[0;36mpandas._libs.parsers.TextReader.__cinit__\u001b[1;34m()\u001b[0m\n",
      "File \u001b[1;32mpandas\\_libs\\parsers.pyx:653\u001b[0m, in \u001b[0;36mpandas._libs.parsers.TextReader._setup_parser_source\u001b[1;34m()\u001b[0m\n",
      "\u001b[1;31mFileNotFoundError\u001b[0m: [Errno 2] No such file or directory: 'test_data.csv'"
     ]
    }
   ],
   "source": [
    "import pandas as pd\n",
    "import numpy as np\n",
    "data = pd.read_csv('test_data.csv')\n",
    "\n"
   ]
  }
 ],
 "metadata": {
  "interpreter": {
   "hash": "fc0f6f3ea0ec909778591e1b13bc6b62a3c6acc136f7d33a14b4dde581c3876c"
  },
  "kernelspec": {
   "display_name": "Python 3.9.7 ('base')",
   "language": "python",
   "name": "python3"
  },
  "language_info": {
   "codemirror_mode": {
    "name": "ipython",
    "version": 3
   },
   "file_extension": ".py",
   "mimetype": "text/x-python",
   "name": "python",
   "nbconvert_exporter": "python",
   "pygments_lexer": "ipython3",
   "version": "3.8.5"
  },
  "orig_nbformat": 4
 },
 "nbformat": 4,
 "nbformat_minor": 2
}
