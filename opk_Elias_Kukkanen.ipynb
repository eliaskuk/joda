{
 "cells": [
  {
   "cell_type": "markdown",
   "metadata": {},
   "source": [
    "Oppimispäiväkirja Tijo.222<br> \n",
    "Elias Kukkanen<br> \n",
    "Opn: H291625<br> "
   ]
  },
  {
   "cell_type": "markdown",
   "metadata": {},
   "source": [
    "# Oppimispäiväkirja\n",
    "\n",
    "##### Oppimistavoitteet\n",
    "\n",
    "Datan merkitys on korostunut paljon viimeaikoina niin koulun penkillä kuin työelämässäkin. Olen käynyt muutamia datan kanssa työskentelyyn liittyviä kursseja, kuten Basic to data analytics, mutta niissä opit ovat jäänet todella pintapuolisiksi. Olen kuullut, että Python on suuresti käytetty työkalu datan kanssa työskennellessä, joten sen kaytön oppiminen datatyökalujen kanssa kiinnostaa erittäin paljon. Haluaisin oppia kurssilla, miten dataa voidaan hyödyntää organisaatioden toiminnan tukena, jotta tulevaisuudessa pystyisin käyttämään opittuja taitojani työelämässä.\n",
    "\n",
    "### Luento 1: Mitä on datatiede\n",
    "\n",
    "Oppimispäiväkirjan esimmäisen luennon tektiosio on tehty esimmäisen luennon pohjalta. Itse en osallistununt opetukseen, vaan se on laadittu [annetun materiaalin pohjalta](https://github.com/InfoTUNI/joda2022/blob/master/luentomuistio/luento01.ipynb). \n",
    "\n",
    "Datatiede rakentuu neljän kokoaisuuden varaan: viestintä ja visualisointi, tilastollinen analyysi, ohjelmointi sekä tietokannat ja liiketoiminta. Kun nämä neljä asiaa yhdistää, tulee aivan mieleen se, mitä tietojohtamisen opinnot pitävät sisällään, tai ainakin minun. \n",
    "\n",
    "Datan määrä on valtava ja se kasvaa kokoajan. Se mahdollistaa organisaatioissa monia asioita, esimerkiksi tekoälyn kehittämistä, mutta ei ole kuitenkaan itsestään selvyys, että sen avulla saataisiin luotua kilpailuetua. Pelkästään datan kerääminen ei tuota organisaatioissa mitään muuta kuin lisää työtä. Jotain tälle datalle tulisi myös tehdä. \n",
    "\n",
    "Datatietelijän rooli organisaatioissa on moninainen, niin kun luennolla sanotaan. Datatieteen pohjautuminen neljän eri kokonaisuuden varaan on tälle varmasti merkittävä syy. Keskeistä datatieteilijöille on kuitenkin kyky hallinoida sekä muokata suuria määriä dataa ja hyödyntää ohjelmointia eri tavoin. Kun etsii duunitorista työpaikkoja tittelillä data scientist, niin pystyy huomaamaan, kuinka paljon paikkoja erilaisissa organisaatioissa data tieteilijöille on olemassa. Michael Palmeri sanojen mukaan data on uusi öljy, ja sen pystyy jo pelkästään huomaamaan yhdellä duunitorin haulla. \n",
    "\n",
    "Datatieteen parissa voi törmätä erilaisiin prosesseihin ja malleihin. Esimerkiksi CRISP-DM -malli kuvaa avoimen strandardin prosessikuvausta datatieteen prosessista. Kyseinen prosessi käynnistyy liiketoiminnan ymmärtämisestä ja siihen liittyy mukaan myös datan ymmärtäminen. Data ymmäträmistä voidaan hyödyntää liiketoiminnan ymmäträmiseen ja samaa toimii myös toisinpäin. Liiketoiminnan ymmärtämistä voi helpottaa jo aikaisemmin mallinnettu ja arvioitu data. Kun näistä on saatu hyvä kuva, voidaa siirtyä datan preparointiin, jonka jälkeen sitä voidaan alkaa mallintaa. Mallinuksesta voidaan vielä joutua takaisin repartointiin, jos mallinnusvaiheessa huomataan epäkohtia. Kun data on saatu mallinnetua ja sitä pystyy muutkin kuin datatieteiljät lukemaan, se arvioidaan. Viimeisenä sitä käytetään liiketoiminnan päätöksenteon tukena.\n",
    "\n",
    "Microsoftin tiimidatatiedemalli kuvaa datatiedeprojektia. Mallin vaiheet aika samalaisia kuin CRISP-M -mallissa, mutta siinä on käyty tarkemmin datan- mallinnusta sekä hankintaa. Nämä vaiheet ovat datatieteilijöille ehkä ne työllistävimät vaiheet, jossa pääsee oikeasti työskentelemään datan kanssa. \n",
    "\n",
    "5 Oivallusta\n",
    "- Datatiede koostuu 4 eri kokonaisuudesta\n",
    "- Datatiede voidaan hyödyntää monipuolisesti organisaatioissa\n",
    "- Etiikka tulee huomioida datan kanssa työskennellessä\n",
    "- Python on noussut vaikuttavaksi datatyökaluksi\n",
    "- Datatiede tärkeä osa tietojohtamisen osaamisessa\n",
    "\n",
    "Kehityskohdat\n",
    "- Ensimmäisellä viikolla tulee paljon uusi työkaluja, joten voisi olla hyvä jokin tutoriaali, minkä avulla pääsee alkuun ohjelmien kanssa. \n",
    "\n",
    "Seuraavat Python harjoitukset perustuvat [Visual Studio Coden Data Science in VS Code tutorialiin](https://code.visualstudio.com/docs/datascience/data-science-tutorial), sekä luennon ja koodiklinikan aineistoon. \n",
    "Käytetty data on saatavilla seuraavasta linkistä: [Titanic Data](https://www.openml.org/d/40945)."
   ]
  },
  {
   "cell_type": "code",
   "execution_count": 161,
   "metadata": {},
   "outputs": [],
   "source": [
    "import pandas as pd\n",
    "import numpy as np\n",
    "import matplotlib.pyplot as plt\n",
    "from matplotlib import style"
   ]
  },
  {
   "cell_type": "code",
   "execution_count": 162,
   "metadata": {},
   "outputs": [],
   "source": [
    "#ipmorting test data, cab be found above from the link: Titanic Data\n",
    "data_original = pd.read_csv('test_data.csv')\n",
    "data_modified = data_original.copy()"
   ]
  },
  {
   "cell_type": "code",
   "execution_count": 163,
   "metadata": {},
   "outputs": [
    {
     "name": "stdout",
     "output_type": "stream",
     "text": [
      "pclass        int64\n",
      "survived      int64\n",
      "name         object\n",
      "sex          object\n",
      "age          object\n",
      "sibsp         int64\n",
      "parch         int64\n",
      "ticket       object\n",
      "fare         object\n",
      "cabin        object\n",
      "embarked     object\n",
      "boat         object\n",
      "body         object\n",
      "home.dest    object\n",
      "dtype: object\n"
     ]
    }
   ],
   "source": [
    "print(data_modified.dtypes)"
   ]
  },
  {
   "cell_type": "code",
   "execution_count": 164,
   "metadata": {},
   "outputs": [],
   "source": [
    "# Replacing \"?\" with Nan value\n",
    "data_modified.replace('?',np.nan, inplace= True)\n",
    "\n",
    "# Changing male and female to value\n",
    "data_modified.replace({'male': 1, 'female': 0}, inplace=True)\n",
    "\n",
    "# Changing age and fare types to float64\n",
    "data_modified = data_modified.astype({\"age\": np.float64, \"fare\": np.float64})"
   ]
  },
  {
   "cell_type": "code",
   "execution_count": 165,
   "metadata": {},
   "outputs": [
    {
     "name": "stdout",
     "output_type": "stream",
     "text": [
      "pclass         int64\n",
      "survived       int64\n",
      "name          object\n",
      "sex            int64\n",
      "age          float64\n",
      "sibsp          int64\n",
      "parch          int64\n",
      "ticket        object\n",
      "fare         float64\n",
      "cabin         object\n",
      "embarked      object\n",
      "boat          object\n",
      "body          object\n",
      "home.dest     object\n",
      "dtype: object\n"
     ]
    }
   ],
   "source": [
    "print(data_modified.dtypes)"
   ]
  },
  {
   "cell_type": "code",
   "execution_count": 166,
   "metadata": {},
   "outputs": [],
   "source": [
    "# Creating a function that capitalises objects\n",
    "caps = lambda x: x.upper()\n",
    "\n",
    "# Capitalising names\n",
    "data_modified['name'] = data_modified['name'].apply(caps)"
   ]
  },
  {
   "cell_type": "code",
   "execution_count": 167,
   "metadata": {},
   "outputs": [],
   "source": [
    "# Making new column \"relatives\" and making the value 1 if sibsp or parch is greater than zero\n",
    "data_modified['relatives'] = data_modified.apply(lambda y: int((y['sibsp'] + y['parch']) > 0), axis = 1)"
   ]
  },
  {
   "cell_type": "code",
   "execution_count": 168,
   "metadata": {},
   "outputs": [
    {
     "name": "stdout",
     "output_type": "stream",
     "text": [
      "      pclass  survived                                             name  sex  \\\n",
      "1          1         1                   ALLISON, MASTER. HUDSON TREVOR    1   \n",
      "2          1         0                     ALLISON, MISS. HELEN LORAINE    0   \n",
      "3          1         0             ALLISON, MR. HUDSON JOSHUA CREIGHTON    1   \n",
      "4          1         0  ALLISON, MRS. HUDSON J C (BESSIE WALDO DANIELS)    0   \n",
      "6          1         1                ANDREWS, MISS. KORNELIA THEODOSIA    0   \n",
      "...      ...       ...                                              ...  ...   \n",
      "1290       3         1                 WILKES, MRS. JAMES (ELLEN NEEDS)    0   \n",
      "1299       3         0                              YASBECK, MR. ANTONI    1   \n",
      "1300       3         1          YASBECK, MRS. ANTONI (SELINI ALEXANDER)    0   \n",
      "1304       3         0                             ZABOUR, MISS. HILENI    0   \n",
      "1305       3         0                            ZABOUR, MISS. THAMINE    0   \n",
      "\n",
      "          age  sibsp  parch  ticket      fare    cabin embarked boat body  \\\n",
      "1      0.9167      1      2  113781  151.5500  C22 C26        S   11  NaN   \n",
      "2      2.0000      1      2  113781  151.5500  C22 C26        S  NaN  NaN   \n",
      "3     30.0000      1      2  113781  151.5500  C22 C26        S  NaN  135   \n",
      "4     25.0000      1      2  113781  151.5500  C22 C26        S  NaN  NaN   \n",
      "6     63.0000      1      0   13502   77.9583       D7        S   10  NaN   \n",
      "...       ...    ...    ...     ...       ...      ...      ...  ...  ...   \n",
      "1290  47.0000      1      0  363272    7.0000      NaN        S  NaN  NaN   \n",
      "1299  27.0000      1      0    2659   14.4542      NaN        C    C  NaN   \n",
      "1300  15.0000      1      0    2659   14.4542      NaN        C  NaN  NaN   \n",
      "1304  14.5000      1      0    2665   14.4542      NaN        C  NaN  328   \n",
      "1305      NaN      1      0    2665   14.4542      NaN        C  NaN  NaN   \n",
      "\n",
      "                            home.dest  relatives  \n",
      "1     Montreal, PQ / Chesterville, ON          1  \n",
      "2     Montreal, PQ / Chesterville, ON          1  \n",
      "3     Montreal, PQ / Chesterville, ON          1  \n",
      "4     Montreal, PQ / Chesterville, ON          1  \n",
      "6                          Hudson, NY          1  \n",
      "...                               ...        ...  \n",
      "1290                              NaN          1  \n",
      "1299                              NaN          1  \n",
      "1300                              NaN          1  \n",
      "1304                              NaN          1  \n",
      "1305                              NaN          1  \n",
      "\n",
      "[519 rows x 15 columns]\n"
     ]
    }
   ],
   "source": [
    "#printing rows that have relatives\n",
    "print(data_modified[data_modified['relatives'] == 1])"
   ]
  },
  {
   "cell_type": "code",
   "execution_count": 169,
   "metadata": {},
   "outputs": [
    {
     "name": "stdout",
     "output_type": "stream",
     "text": [
      "4.0\n",
      "23.0\n"
     ]
    }
   ],
   "source": [
    "# Selecting all the ten years olds\n",
    "ten_years_olds = data_modified.loc[:,['age', 'sex']]\n",
    "ten_years_olds = ten_years_olds[ten_years_olds['age'] == 10]\n",
    "\n",
    "# Seleceting all the 20 years olds\n",
    "twenty_years_olds = data_modified.loc[:,['age', 'sex']]\n",
    "twenty_years_olds = twenty_years_olds[twenty_years_olds['age'] == 20]\n",
    "\n",
    "# Summing up ten and 20 years olds \n",
    "sum_tenyo = sum(ten_years_olds['age'])/10\n",
    "sum_twentyuo =  sum(twenty_years_olds['age'])/20\n",
    "\n",
    "print(sum_tenyo)\n",
    "print(sum_twentyuo)"
   ]
  },
  {
   "cell_type": "code",
   "execution_count": 171,
   "metadata": {},
   "outputs": [
    {
     "data": {
      "text/plain": [
       "<AxesSubplot:>"
      ]
     },
     "execution_count": 171,
     "metadata": {},
     "output_type": "execute_result"
    },
    {
     "data": {
      "image/png": "[encoded data removed]",
      "text/plain": [
       "<Figure size 1080x720 with 1 Axes>"
      ]
     },
     "metadata": {
      "needs_background": "light"
     },
     "output_type": "display_data"
    }
   ],
   "source": [
    "# Plotting the results\n",
    "\n",
    "data_modified_plot = pd.DataFrame([[sum_tenyo, sum_twentyuo]])\n",
    "# Creating a new dataframe for the plot\n",
    "data_modified_plot.columns = [\"10 years olds\", \"20 years olds\"]\n",
    "\n",
    "data_modified_plot.plot.bar(figsize=(15,10))"
   ]
  },
  {
   "cell_type": "markdown",
   "metadata": {},
   "source": [
    "# Luento 2: Data"
   ]
  },
  {
   "cell_type": "markdown",
   "metadata": {},
   "source": [
    "Viikon 2 oppimipäivänkirjan kappale pohjautuu luentoviikon luentoon sekä sen materiaaliin. Osallistuin itse live luennolle. \n",
    "\n",
    "Dataa on saatavilla yhä enemmän ja enemmän. Organisaatiot ovat alkaneet ymmärtämään datan hyödyntömisen ja kilpailukyvyn saavuttamisen korrelaation, jonka seurauksena sitä ollaan alettu hyödyntää yhe enemmän. Data-analytiikka helpottaa liiketoimintaprosessin ymmärtämistä ja analytiikka voidaan jakaa nelikenttään, joka jaetaan seuraaviin teemoihin: kuvaileva analytiikka, diagnosoiva analytiikka, ennakoiva analytiikka ja ohjaava analytiikka. Kuvailevassa analytiikassa analytiikan avulla pyritään selittämään mitä on tapahtunut. Tässä kyse on muuttujien tunnistamisesta sekä mallintamisesta tuottaen kuvaa siitä, mitä prosessissa tapahtuu. Diagnoisoivassa analytiikassa tutkitaan sitä, miksi jotain on tapahtunut. Siinä kuvaillaan dataa, jotta voidaan löydää perusteluja, miksi jotain on tapahtunut. Ennakoivassa analytiikassa pyritään ennekoimaan analytiikan avulla tulevaa. Siinä hyödynnetään aikasarja- aineistonjen mallintamista tulevaisuuteen. Ohjaavassa analytiikassa pyritään löytämään vastaus kysymykseen, mitä asialle pitäii tehdä. Se on esimerkiksi sitä, että analysoidaan jotain tämänhetkistä prosessia ja pyritään analyyisn avulla optimoimaan kysistä prosessia tehokkaammaksi. \n",
    "\n",
    "##### Ryömijät ja Raapijat\n",
    "Ryömiä käy systemaattisesti läpi verkko-osoitteita tarkoituksena yleensä sivun indekstointi. Ryömijä kasvattaa hakuavaruuttaan lisäämällä aloituspisteestä löytyvien verkkosivujen hyperlinkit omaan hakujonoon. Ryömijää kontrolloidaan rajoittamalla läpikäytäviä sivuja, milloin se palaa takaisin jo vierailulle sivulle, ylikuormituksen estäminen käytävillä sivuilla ja toiminnan koordinoinnilla. Raapija on työkalu, joka kerää automatisoidusti tietoa verkkosivuilta. Käytännön toteuksissa ryömijä ja raapija on yhdistetty, jolloin ryömijä luo hakuavaruuden lisäämällä hyperlinkkejä hakujonoon ja raapija kerää näistä tietoa parametrien avulla. \n",
    "\n",
    "Kun dataa ollaan kerätty, esimerkiksi ryömijöiden ja raapijoiden avulla, sitä täytyy jalostaa. Se tulisi saada sellaiseen muotoon, että se on helposti ymmärrettävää ja henkilöt, jotka sitä tarvitsevat, pystyvät lukemaan sitä. Tätä kutsutaan datan jalostamiseksi. \n",
    "\n",
    "5 Oivallusta\n",
    "- Määrällä ei korvata laatua\n",
    "- Datan jalostus tärkeää ja työlästä\n",
    "- Ryömijät ja raapijat yhdessä kätevä tapa kerätä dataa\n",
    "- Data on iso kilpailukyvyn tekijä organisaatioissa tänäpäivänä\n",
    "- Dataan keräämisessä saattaa tulla lait jossain kohtaa vastaan\n",
    "\n",
    "Kehityskohdat\n",
    "-  Yksinkertainen ryömijä/raapija esimerkki, missä kaikki turha koodi jätetty pois"
   ]
  },
  {
   "cell_type": "code",
   "execution_count": 1,
   "metadata": {},
   "outputs": [],
   "source": [
    "import scrapy\n",
    "\n",
    "\n",
    "class WikikoiraSpider(scrapy.Spider):\n",
    "    name = 'wikikoira'\n",
    "    allowed_domains = ['fi.wikipedia.org']\n",
    "    start_urls = ['http://fi.wikipedia.org/']\n",
    "\n",
    "    def parse(self, response):\n",
    "        filename = 'response.html'\n",
    "\n",
    "        with open(filename, 'wb') as f:\n",
    "            f.write(response.body)"
   ]
  },
  {
   "cell_type": "markdown",
   "metadata": {},
   "source": [
    "scrapy strartproject \"name\"\n",
    "scrapy genspider <url>\n",
    "scrapy crawl \"crawler name\""
   ]
  },
  {
   "cell_type": "markdown",
   "metadata": {},
   "source": [
    "### Luento 3\n",
    "\n",
    "Viikon 3 oppismispäiväkirja pohjautuu viikon 3 luentomateriaaliin, itse en osallistunut liveopetukseen.\n",
    "\n",
    "#### Koneoppiminen\n",
    "\n",
    "Koneoppiminen on ohjelmiston kehittymistä tehokkaammaaksi tiedon sekä käyttäjän toimijen pohjalta. Koneoppimisalgritmejä on eri tyyppisiä: ohjattu, ohjaamaton ja vahvistettu oppiminen. \n",
    "\n",
    "Ohjattu oppiminen algoritmimia käytetään yleisesti ennustavassa mallinuksessa. Se on käytännössä sitä, että oppimisdatan pohjalta kone ennustaa tulevan arvon, esimerkiksi lineaarien regression avulla. Ohjattu oppiminen algoritmi yrittää mallintaa suhteita ja riippuvuuksia mikä on opittu aiemmasta datasta. Ohjattu oppiminen algoritmin päätyypit ovat luokittelu algoritmit ja regressioalgoritmit. Luokittelualgoritmissä opitun datan avulla arvioidaan annettua dataa sekä luokitellaan se. Regressioalgoritmissa ennustetaan arvo erilaisten ominaisuuksien avulla. Jotta tämä olisi mahdolista, algoritmi rakentaa malliperusteisia ominaisuuksia oppimisdatan pohjalta. ([Morgun Ivan 2015](https://en.proft.me/2015/12/24/types-machine-learning-algorithms/))\n",
    "\n",
    "Ohjaamaton oppiminen algoritmia käytetään pääsääntöisesti mallien havaitsemiseen ja kuvaavaan mallinnukseen. \n",
    "\n",
    "\n",
    "\n",
    "\n"
   ]
  },
  {
   "cell_type": "markdown",
   "metadata": {},
   "source": []
  }
 ],
 "metadata": {
  "interpreter": {
   "hash": "739ccad7ac72b51ab2816ba027eb6aff9f4f5c8999edd03b26a58fc99480fe36"
  },
  "kernelspec": {
   "display_name": "Python 3.8.5 64-bit",
   "language": "python",
   "name": "python3"
  },
  "language_info": {
   "codemirror_mode": {
    "name": "ipython",
    "version": 3
   },
   "file_extension": ".py",
   "mimetype": "text/x-python",
   "name": "python",
   "nbconvert_exporter": "python",
   "pygments_lexer": "ipython3",
   "version": "3.8.5"
  },
  "orig_nbformat": 4
 },
 "nbformat": 4,
 "nbformat_minor": 2
}
