{
 "cells": [
  {
   "cell_type": "markdown",
   "metadata": {},
   "source": [
    "Oppimispäiväkirja Tijo.222\n",
    "\n",
    "Elias Kukkanen\n",
    "\n",
    "Opn: H291625"
   ]
  }
 ],
 "metadata": {
  "interpreter": {
   "hash": "739ccad7ac72b51ab2816ba027eb6aff9f4f5c8999edd03b26a58fc99480fe36"
  },
  "kernelspec": {
   "display_name": "Python 3.8.5 64-bit",
   "language": "python",
   "name": "python3"
  },
  "language_info": {
   "name": "python",
   "version": "3.8.5"
  },
  "orig_nbformat": 4
 },
 "nbformat": 4,
 "nbformat_minor": 2
}
