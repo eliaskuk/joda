{
 "cells": [
  {
   "cell_type": "markdown",
   "metadata": {},
   "source": [
    "Oppimispäiväkirja Tijo.222<br> \n",
    "Elias Kukkanen<br> \n",
    "Opn: H291625<br> "
   ]
  },
  {
   "cell_type": "markdown",
   "metadata": {},
   "source": [
    "# Mitä on datatiede\n",
    "Datatiede rakentuu neljän kokoaisuuden varaan: viestintä ja visualisointi, tilastollinen analyysi, ohjelmointi sekä tietokannat ja liiketoiminta. Kun nämä neljä asiaa yhdistää, tulee aivan mieleen se, mitä tietojohtamisen opinnot pitävät sisällään, tai ainakin minun. \n",
    "\n",
    "Datan määrä on valtava ja se kasvaa kokoajan. Se mahdollistaa organisaatioissa monia asioita, esimerkiksi tekoälyn kehittämistä, mutta ei ole kuitenkaan itsestään selvyys, että sen avulla saataisiin luotua kilpailuetua. Pelkästään datan kerääminen ei tuota organisaatioissa mitään muuta kuin lisää työtä. Jotain tälle datalle tulisi myös tehdä. \n",
    "\n",
    "Datatietelijän rooli organisaatioissa on moninainen, niin kun luennolla sanotaan. Datatieteen pohjautuminen neljän eri kokonaisuuden varaan on tälle varmasti merkittävä syy. Keskeistä datatieteilijöille on kuitenkin kyky hallinoida sekä muokata suuria määriä dataa ja hyödyntää ohjelmointia eri tavoin. Kun etsii duunitorista työpaikkoja tittelillä data scientist, niin pystyy huomaamaan, kuinka paljon paikkoja erilaisissa organisaatioissa data tieteilijöille on olemassa. Data on uusi öljy, niin kuin joku joskus on sanonut, ja sen pystyy jo pelkästään huomaamaan yhdellä duunitorin haulla. \n",
    "\n",
    "Datatieteen parissa voi törmätä erilaisiin prosesseihin ja malleihin. Esimerkiksi CRISP-DM -malli kuvaa avoimen strandardin prosessikuvausta datatieteen prosessista. Kyseinen prosessi käynnistyy liiketoiminnan ymmärtämisestä ja siihen liittyy mukaan myös datan ymmärtäminen. Data ymmäträmistä voidaan hyödyntää liiketoiminnan ymmäträmiseen ja samaa toimii myös toisinpäin. Liiketoiminnan ymmärtämistä voi helpottaa jo aikaisemmin mallinnettu ja arvioitu data. Kun näistä on saatu hyvä kuva, voidaa siirtyä datan preparointiin, jonka jälkeen sitä voidaan alkaa mallintaa. Mallinuksesta voidaan vielä joutua takaisin repartointiin, jos mallinnusvaiheessa huomataan epäkohtia. Kun data on saatu mallinnetua ja sitä pystyy muutkin kuin datatieteiljät lukemaan, se arvioidaan. Viimeisenä sitä käytetään liiketoiminnan päätöksenteon tukena.\n",
    "\n",
    "Microsoftin tiimidatatiedemalli kuvaa datatiedeprojektia. Mallin vaiheet aika samalaisia kuin CRISP-M -mallissa, mutta siinä on käyty tarkemmin datan- mallinnusta sekä hankintaa. Nämä vaiheet ovat datatieteilijöille ehkä ne työllistävimät vaiheet, jossa pääsee oikeasti työskentelemään datan kanssa. \n",
    "\n",
    "Seuraavat Python harjoitukset perustuvat [Visual Studio Coden Data Science in VS Code tutorialiin](https://code.visualstudio.com/docs/datascience/data-science-tutorial). Käytetty data on saatavilla seuraavasta linkistä: [Titanic Data](https://www.openml.org/d/40945)."
   ]
  },
  {
   "cell_type": "code",
   "execution_count": 10,
   "metadata": {},
   "outputs": [],
   "source": [
    "import pandas as pd\n",
    "import numpy as np\n",
    "data = pd.read_csv('test_data.csv')"
   ]
  },
  {
   "cell_type": "code",
   "execution_count": 11,
   "metadata": {},
   "outputs": [],
   "source": [
    "data.replace('?',np.nan, inplace= True)\n",
    "data.replace({'male': 1, 'female': 0}, inplace=True)\n",
    "data = data.astype({\"age\": np.float64, \"fare\": np.float64})"
   ]
  }
 ],
 "metadata": {
  "interpreter": {
   "hash": "739ccad7ac72b51ab2816ba027eb6aff9f4f5c8999edd03b26a58fc99480fe36"
  },
  "kernelspec": {
   "display_name": "Python 3.8.5 64-bit",
   "language": "python",
   "name": "python3"
  },
  "language_info": {
   "codemirror_mode": {
    "name": "ipython",
    "version": 3
   },
   "file_extension": ".py",
   "mimetype": "text/x-python",
   "name": "python",
   "nbconvert_exporter": "python",
   "pygments_lexer": "ipython3",
   "version": "3.8.5"
  },
  "orig_nbformat": 4
 },
 "nbformat": 4,
 "nbformat_minor": 2
}
